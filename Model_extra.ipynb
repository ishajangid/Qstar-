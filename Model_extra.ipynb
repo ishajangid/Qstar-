{
  "cells": [
    {
      "cell_type": "code",
      "execution_count": 35,
      "metadata": {
        "id": "MPOS7C5UYXQu"
      },
      "outputs": [],
      "source": [
        "data = pd.read_csv('medical data.csv')\n",
        "print(data.columns)\n",
        "data.info()\n",
        "\n",
        "data['DateOfBirth'] = pd.to_datetime(data['DateOfBirth'], errors='coerce')\n",
        "\n",
        "\n",
        "median_date = data['DateOfBirth'].dropna().median()\n",
        "\n",
        "\n",
        "data['DateOfBirth'].fillna(median_date, inplace=True)\n",
        "\n",
        "categorical_columns = ['Gender', 'Symptoms', 'Causes', 'Disease', 'Medicine']\n",
        "for column in categorical_columns:\n",
        "    data[column].fillna(data[column].mode()[0], inplace=True)\n",
        "\n",
        "\n",
        "import pandas as pd\n",
        "from sklearn.preprocessing import LabelEncoder\n",
        "\n",
        "\n",
        "label_encoders = {}\n",
        "for column in data.columns:\n",
        "    if data[column].dtype == 'object':\n",
        "        le = LabelEncoder()\n",
        "        data[column] = le.fit_transform(data[column])\n",
        "        label_encoders[column] = le\n",
        "\n",
        "\n",
        "\n",
        "from sklearn.preprocessing import LabelEncoder\n",
        "\n",
        "encoder = LabelEncoder()\n",
        "for column in categorical_columns:\n",
        "    data[column] = encoder.fit_transform(data[column])\n",
        "\n",
        "\n",
        "dt_classifier = DecisionTreeClassifier(random_state=42)\n",
        "dt_classifier.fit(X_train,y_train)\n",
        "\n",
        "\n",
        "y_pred_dt = dt_classifier.predict(X_test)\n",
        "accuracy_dt = accuracy_score(y_test, y_pred_dt)\n",
        "print(f\"Decision Tree Accuracy: {accuracy_dt}\")\n",
        "\n",
        "from sklearn.ensemble import RandomForestClassifier\n",
        "\n",
        "rf_classifier = RandomForestClassifier(random_state=42)\n",
        "rf_classifier.fit(X_train, y_train)\n",
        "\n",
        "y_pred_rf = rf_classifier.predict(X_test)\n",
        "accuracy_rf = accuracy_score(y_test, y_pred_rf)\n",
        "print(f\"Random Forest Accuracy: {accuracy_rf}\")"
      ]
    }
  ],
  "metadata": {
    "colab": {
      "provenance": []
    },
    "kernelspec": {
      "display_name": "Python 3",
      "name": "python3"
    },
    "language_info": {
      "name": "python"
    }
  },
  "nbformat": 4,
  "nbformat_minor": 0
}
